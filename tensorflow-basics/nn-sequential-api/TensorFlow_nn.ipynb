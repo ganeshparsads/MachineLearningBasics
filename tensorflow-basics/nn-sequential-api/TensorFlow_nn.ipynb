{
  "nbformat": 4,
  "nbformat_minor": 0,
  "metadata": {
    "colab": {
      "provenance": []
    },
    "kernelspec": {
      "name": "python3",
      "display_name": "Python 3"
    },
    "language_info": {
      "name": "python"
    }
  },
  "cells": [
    {
      "cell_type": "markdown",
      "source": [
        "**Neural Networks with Sequential and Functional API**"
      ],
      "metadata": {
        "id": "hKnIyGOEiEQq"
      }
    },
    {
      "cell_type": "code",
      "execution_count": 1,
      "metadata": {
        "id": "QDKGm0zniAfs"
      },
      "outputs": [],
      "source": [
        "import os\n",
        "\n",
        "os.environ[\"TF_CPP_MIN_LOG_LEVEL\"] = \"2\"\n",
        "\n",
        "import tensorflow as tf\n",
        "from tensorflow import keras\n",
        "from tensorflow.keras import layers\n",
        "from tensorflow.keras.datasets import mnist"
      ]
    },
    {
      "cell_type": "code",
      "source": [
        "(x_train, y_train), (x_test, y_test) = mnist.load_data()\n",
        "x_train = x_train.reshape(-1, 28 * 28).astype(\"float32\") / 255.0\n",
        "x_test = x_test.reshape(-1, 28 * 28).astype(\"float32\") / 255.0\n",
        "\n",
        "# Sequential API (Very convenient, not very flexible)\n",
        "model = keras.Sequential(\n",
        "    [\n",
        "        keras.Input(shape=(28 * 28)),\n",
        "        layers.Dense(512, activation=\"relu\"),\n",
        "        layers.Dense(256, activation=\"relu\"),\n",
        "        layers.Dense(10),\n",
        "    ]\n",
        ")\n",
        "\n",
        "model = keras.Sequential()\n",
        "model.add(keras.Input(shape=(784)))\n",
        "model.add(layers.Dense(512, activation=\"relu\"))\n",
        "model.add(layers.Dense(256, activation=\"relu\", name=\"my_layer\"))\n",
        "model.add(layers.Dense(10))\n",
        "\n",
        "# Functional API (A bit more flexible)\n",
        "inputs = keras.Input(shape=(784))\n",
        "x = layers.Dense(512, activation=\"relu\", name=\"first_layer\")(inputs)\n",
        "x = layers.Dense(256, activation=\"relu\", name=\"second_layer\")(x)\n",
        "outputs = layers.Dense(10, activation=\"softmax\")(x)\n",
        "model = keras.Model(inputs=inputs, outputs=outputs)\n",
        "\n",
        "model.compile(\n",
        "    loss=keras.losses.SparseCategoricalCrossentropy(from_logits=False),\n",
        "    optimizer=keras.optimizers.Adam(lr=0.001),\n",
        "    metrics=[\"accuracy\"],\n",
        ")\n",
        "\n",
        "model.fit(x_train, y_train, batch_size=32, epochs=5, verbose=2)\n",
        "model.evaluate(x_test, y_test, batch_size=32, verbose=2)"
      ],
      "metadata": {
        "colab": {
          "base_uri": "https://localhost:8080/"
        },
        "id": "erFxUaiiiMui",
        "outputId": "92a0f0a4-9fad-42fd-ba38-b8dcf4d3e9c4"
      },
      "execution_count": 3,
      "outputs": [
        {
          "output_type": "stream",
          "name": "stdout",
          "text": [
            "Downloading data from https://storage.googleapis.com/tensorflow/tf-keras-datasets/mnist.npz\n",
            "11490434/11490434 [==============================] - 0s 0us/step\n"
          ]
        },
        {
          "output_type": "stream",
          "name": "stderr",
          "text": [
            "WARNING:absl:`lr` is deprecated in Keras optimizer, please use `learning_rate` or use the legacy optimizer, e.g.,tf.keras.optimizers.legacy.Adam.\n"
          ]
        },
        {
          "output_type": "stream",
          "name": "stdout",
          "text": [
            "Epoch 1/5\n",
            "1875/1875 - 16s - loss: 0.1876 - accuracy: 0.9431 - 16s/epoch - 9ms/step\n",
            "Epoch 2/5\n",
            "1875/1875 - 16s - loss: 0.0792 - accuracy: 0.9756 - 16s/epoch - 8ms/step\n",
            "Epoch 3/5\n",
            "1875/1875 - 15s - loss: 0.0560 - accuracy: 0.9827 - 15s/epoch - 8ms/step\n",
            "Epoch 4/5\n",
            "1875/1875 - 15s - loss: 0.0430 - accuracy: 0.9860 - 15s/epoch - 8ms/step\n",
            "Epoch 5/5\n",
            "1875/1875 - 15s - loss: 0.0312 - accuracy: 0.9897 - 15s/epoch - 8ms/step\n",
            "313/313 - 1s - loss: 0.0832 - accuracy: 0.9793 - 918ms/epoch - 3ms/step\n"
          ]
        },
        {
          "output_type": "execute_result",
          "data": {
            "text/plain": [
              "[0.08319394290447235, 0.9793000221252441]"
            ]
          },
          "metadata": {},
          "execution_count": 3
        }
      ]
    }
  ]
}