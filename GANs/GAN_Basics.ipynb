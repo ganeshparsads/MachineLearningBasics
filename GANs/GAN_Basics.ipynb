{
  "nbformat": 4,
  "nbformat_minor": 0,
  "metadata": {
    "colab": {
      "provenance": []
    },
    "kernelspec": {
      "name": "python3",
      "display_name": "Python 3"
    },
    "language_info": {
      "name": "python"
    }
  },
  "cells": [
    {
      "cell_type": "markdown",
      "source": [
        "Implementation of blog post https://medium.com/@devnag/generative-adversarial-networks-gans-in-50-lines-of-code-pytorch-e81b79659e3f"
      ],
      "metadata": {
        "id": "tr93MvE7u746"
      }
    },
    {
      "cell_type": "code",
      "source": [
        "# Generative Adversarial Networks (GAN) example in PyTorch. Tested with PyTorch 0.4.1, Python 3.6.7 (Nov 2018)\n",
        "# See related blog post at https://medium.com/@devnag/generative-adversarial-networks-gans-in-50-lines-of-code-pytorch-e81b79659e3f#.sch4xgsa9\n",
        "\n",
        "import numpy as np\n",
        "import torch\n",
        "import torch.nn as nn\n",
        "import torch.optim as optim\n",
        "from torch.autograd import Variable\n",
        "\n",
        "matplotlib_is_available = True\n",
        "try:\n",
        "  from matplotlib import pyplot as plt\n",
        "except ImportError:\n",
        "  print(\"Will skip plotting; matplotlib is not available.\")\n",
        "  matplotlib_is_available = False\n",
        "\n",
        "# Data params\n",
        "data_mean = 4\n",
        "data_stddev = 1.25\n",
        "\n",
        "# ### Uncomment only one of these to define what data is actually sent to the Discriminator\n",
        "#(name, preprocess, d_input_func) = (\"Raw data\", lambda data: data, lambda x: x)\n",
        "#(name, preprocess, d_input_func) = (\"Data and variances\", lambda data: decorate_with_diffs(data, 2.0), lambda x: x * 2)\n",
        "#(name, preprocess, d_input_func) = (\"Data and diffs\", lambda data: decorate_with_diffs(data, 1.0), lambda x: x * 2)\n",
        "(name, preprocess, d_input_func) = (\"Only 4 moments\", lambda data: get_moments(data), lambda x: 4)\n",
        "\n",
        "print(\"Using data [%s]\" % (name))"
      ],
      "metadata": {
        "id": "uVPCQ8QV5GjO",
        "colab": {
          "base_uri": "https://localhost:8080/"
        },
        "outputId": "e4eecb16-9df4-44e3-b28c-4939f42b16d1"
      },
      "execution_count": 2,
      "outputs": [
        {
          "output_type": "stream",
          "name": "stdout",
          "text": [
            "Using data [Only 4 moments]\n"
          ]
        }
      ]
    },
    {
      "cell_type": "markdown",
      "source": [
        "**Real Data**"
      ],
      "metadata": {
        "id": "rMLs7lub8yl4"
      }
    },
    {
      "cell_type": "code",
      "source": [
        "# ##### DATA: Target data and generator input data\n",
        "def get_distribution_sampler(mu, sigma):\n",
        "    return lambda n: torch.Tensor(np.random.normal(mu, sigma, (1, n)))  # Gaussian"
      ],
      "metadata": {
        "id": "dF76NfTb5MNm"
      },
      "execution_count": 9,
      "outputs": []
    },
    {
      "cell_type": "markdown",
      "source": [
        "**Input**"
      ],
      "metadata": {
        "id": "qvWNgN3X8vZd"
      }
    },
    {
      "cell_type": "code",
      "source": [
        "def get_generator_input_sampler():\n",
        "    return lambda m, n: torch.rand(m, n)  # Uniform-dist data into generator, _NOT_ Gaussian"
      ],
      "metadata": {
        "id": "XSTHwir08CEt"
      },
      "execution_count": 10,
      "outputs": []
    },
    {
      "cell_type": "markdown",
      "source": [
        "**Generator**\n",
        "\n",
        "Standard Feed Forward Graph"
      ],
      "metadata": {
        "id": "JwzaXbgZ86k4"
      }
    },
    {
      "cell_type": "code",
      "source": [
        "class Generator(nn.Module):\n",
        "    def __init__(self, input_size, hidden_size, output_size, f):\n",
        "        super(Generator, self).__init__()\n",
        "        self.map1 = nn.Linear(input_size, hidden_size)\n",
        "        self.map2 = nn.Linear(hidden_size, hidden_size)\n",
        "        self.map3 = nn.Linear(hidden_size, output_size)\n",
        "        self.f = f\n",
        "\n",
        "    def forward(self, x):\n",
        "        x = self.map1(x)\n",
        "        x = self.f(x)\n",
        "        x = self.map2(x)\n",
        "        x = self.f(x)\n",
        "        x = self.map3(x)\n",
        "        return x\n"
      ],
      "metadata": {
        "id": "WiIjTcPP8uJq"
      },
      "execution_count": 11,
      "outputs": []
    },
    {
      "cell_type": "markdown",
      "source": [
        "**Discriminator**\n",
        "Feed forward NN, 2 Hidden Layer and 3 Linear Maps"
      ],
      "metadata": {
        "id": "rKCsmdF8-sCq"
      }
    },
    {
      "cell_type": "code",
      "source": [
        "class Discriminator(nn.Module):\n",
        "    def __init__(self, input_size, hidden_size, output_size, f):\n",
        "        super(Discriminator, self).__init__()\n",
        "        self.map1 = nn.Linear(input_size, hidden_size)\n",
        "        self.map2 = nn.Linear(hidden_size, hidden_size)\n",
        "        self.map3 = nn.Linear(hidden_size, output_size)\n",
        "        self.f = f\n",
        "\n",
        "    def forward(self, x):\n",
        "        x = self.f(self.map1(x))\n",
        "        x = self.f(self.map2(x))\n",
        "        return self.f(self.map3(x))"
      ],
      "metadata": {
        "id": "U0ljh8sv-rXw"
      },
      "execution_count": 12,
      "outputs": []
    },
    {
      "cell_type": "markdown",
      "source": [
        "**Train Detector and Generator**"
      ],
      "metadata": {
        "id": "lCqpDguT_4Fk"
      }
    },
    {
      "cell_type": "code",
      "source": [
        "def extract(v):\n",
        "    return v.data.storage().tolist()\n",
        "\n",
        "def stats(d):\n",
        "    return [np.mean(d), np.std(d)]\n",
        "\n",
        "def get_moments(d):\n",
        "    # Return the first 4 moments of the data provided\n",
        "    mean = torch.mean(d)\n",
        "    diffs = d - mean\n",
        "    var = torch.mean(torch.pow(diffs, 2.0))\n",
        "    std = torch.pow(var, 0.5)\n",
        "    zscores = diffs / std\n",
        "    skews = torch.mean(torch.pow(zscores, 3.0))\n",
        "    kurtoses = torch.mean(torch.pow(zscores, 4.0)) - 3.0  # excess kurtosis, should be 0 for Gaussian\n",
        "    final = torch.cat((mean.reshape(1,), std.reshape(1,), skews.reshape(1,), kurtoses.reshape(1,)))\n",
        "    return final\n",
        "\n",
        "def decorate_with_diffs(data, exponent, remove_raw_data=False):\n",
        "    mean = torch.mean(data.data, 1, keepdim=True)\n",
        "    mean_broadcast = torch.mul(torch.ones(data.size()), mean.tolist()[0][0])\n",
        "    diffs = torch.pow(data - Variable(mean_broadcast), exponent)\n",
        "    if remove_raw_data:\n",
        "        return torch.cat([diffs], 1)\n",
        "    else:\n",
        "        return torch.cat([data, diffs], 1)\n",
        "\n",
        "def train():\n",
        "    # Model parameters\n",
        "    g_input_size = 1      # Random noise dimension coming into generator, per output vector\n",
        "    g_hidden_size = 5     # Generator complexity\n",
        "    g_output_size = 1     # Size of generated output vector\n",
        "    d_input_size = 500    # Minibatch size - cardinality of distributions\n",
        "    d_hidden_size = 10    # Discriminator complexity\n",
        "    d_output_size = 1     # Single dimension for 'real' vs. 'fake' classification\n",
        "    minibatch_size = d_input_size\n",
        "\n",
        "    d_learning_rate = 1e-3\n",
        "    g_learning_rate = 1e-3\n",
        "    sgd_momentum = 0.9\n",
        "\n",
        "    num_epochs = 5000\n",
        "    print_interval = 100\n",
        "    d_steps = 20\n",
        "    g_steps = 20\n",
        "\n",
        "    dfe, dre, ge = 0, 0, 0\n",
        "    d_real_data, d_fake_data, g_fake_data = None, None, None\n",
        "\n",
        "    discriminator_activation_function = torch.sigmoid\n",
        "    generator_activation_function = torch.tanh\n",
        "\n",
        "    d_sampler = get_distribution_sampler(data_mean, data_stddev)\n",
        "    gi_sampler = get_generator_input_sampler()\n",
        "    G = Generator(input_size=g_input_size,\n",
        "                  hidden_size=g_hidden_size,\n",
        "                  output_size=g_output_size,\n",
        "                  f=generator_activation_function)\n",
        "    D = Discriminator(input_size=d_input_func(d_input_size),\n",
        "                      hidden_size=d_hidden_size,\n",
        "                      output_size=d_output_size,\n",
        "                      f=discriminator_activation_function)\n",
        "    criterion = nn.BCELoss()  # Binary cross entropy: http://pytorch.org/docs/nn.html#bceloss\n",
        "    d_optimizer = optim.SGD(D.parameters(), lr=d_learning_rate, momentum=sgd_momentum)\n",
        "    g_optimizer = optim.SGD(G.parameters(), lr=g_learning_rate, momentum=sgd_momentum)\n",
        "\n",
        "    for epoch in range(num_epochs):\n",
        "        for d_index in range(d_steps):\n",
        "            # 1. Train D on real+fake\n",
        "            D.zero_grad()\n",
        "\n",
        "            #  1A: Train D on real\n",
        "            d_real_data = Variable(d_sampler(d_input_size))\n",
        "            d_real_decision = D(preprocess(d_real_data))\n",
        "            d_real_error = criterion(d_real_decision, Variable(torch.ones([1])))  # ones = true\n",
        "            d_real_error.backward() # compute/store gradients, but don't change params\n",
        "\n",
        "            #  1B: Train D on fake\n",
        "            d_gen_input = Variable(gi_sampler(minibatch_size, g_input_size))\n",
        "            d_fake_data = G(d_gen_input).detach()  # detach to avoid training G on these labels\n",
        "            d_fake_decision = D(preprocess(d_fake_data.t()))\n",
        "            d_fake_error = criterion(d_fake_decision, Variable(torch.zeros([1])))  # zeros = fake\n",
        "            d_fake_error.backward()\n",
        "            d_optimizer.step()     # Only optimizes D's parameters; changes based on stored gradients from backward()\n",
        "\n",
        "            dre, dfe = extract(d_real_error)[0], extract(d_fake_error)[0]\n",
        "\n",
        "        for g_index in range(g_steps):\n",
        "            # 2. Train G on D's response (but DO NOT train D on these labels)\n",
        "            G.zero_grad()\n",
        "\n",
        "            gen_input = Variable(gi_sampler(minibatch_size, g_input_size))\n",
        "            g_fake_data = G(gen_input)\n",
        "            dg_fake_decision = D(preprocess(g_fake_data.t()))\n",
        "            g_error = criterion(dg_fake_decision, Variable(torch.ones([1])))  # Train G to pretend it's genuine\n",
        "\n",
        "            g_error.backward()\n",
        "            g_optimizer.step()  # Only optimizes G's parameters\n",
        "            ge = extract(g_error)[0]\n",
        "\n",
        "        if epoch % print_interval == 0:\n",
        "            print(\"Epoch %s: D (%s real_err, %s fake_err) G (%s err); Real Dist (%s),  Fake Dist (%s) \" %\n",
        "                  (epoch, dre, dfe, ge, stats(extract(d_real_data)), stats(extract(d_fake_data))))\n",
        "\n",
        "    if matplotlib_is_available:\n",
        "        print(\"Plotting the generated distribution...\")\n",
        "        values = extract(g_fake_data)\n",
        "        print(\" Values: %s\" % (str(values)))\n",
        "        plt.hist(values, bins=50)\n",
        "        plt.xlabel('Value')\n",
        "        plt.ylabel('Count')\n",
        "        plt.title('Histogram of Generated Distribution')\n",
        "        plt.grid(True)\n",
        "        plt.show()"
      ],
      "metadata": {
        "id": "sF-CCW51_3xF"
      },
      "execution_count": 13,
      "outputs": []
    },
    {
      "cell_type": "code",
      "source": [
        "train()"
      ],
      "metadata": {
        "colab": {
          "base_uri": "https://localhost:8080/",
          "height": 1000
        },
        "id": "aMTK6DFkvCWs",
        "outputId": "e1682e76-bf9c-4c29-a3ab-6c3669487ad1"
      },
      "execution_count": 14,
      "outputs": [
        {
          "metadata": {
            "tags": null
          },
          "name": "stderr",
          "output_type": "stream",
          "text": [
            "<ipython-input-13-dbc3bb750e89>:2: UserWarning: TypedStorage is deprecated. It will be removed in the future and UntypedStorage will be the only storage class. This should only matter to you if you are using storages directly.  To access UntypedStorage directly, use tensor.untyped_storage() instead of tensor.storage()\n",
            "  return v.data.storage().tolist()\n",
            "/usr/local/lib/python3.9/dist-packages/torch/storage.py:675: UserWarning: TypedStorage is deprecated. It will be removed in the future and UntypedStorage will be the only storage class. This should only matter to you if you are using storages directly.  To access UntypedStorage directly, use tensor.untyped_storage() instead of tensor.storage()\n",
            "  return list(self)\n",
            "/usr/local/lib/python3.9/dist-packages/torch/storage.py:649: UserWarning: TypedStorage is deprecated. It will be removed in the future and UntypedStorage will be the only storage class. This should only matter to you if you are using storages directly.  To access UntypedStorage directly, use tensor.untyped_storage() instead of tensor.storage()\n",
            "  return iter(map(lambda i: self[i], range(self.size())))\n"
          ]
        },
        {
          "output_type": "stream",
          "name": "stdout",
          "text": [
            "Epoch 0: D (0.6449779272079468 real_err, 0.7580015063285828 fake_err) G (0.6334645748138428 err); Real Dist ([3.9635369411706924, 1.248933216913143]),  Fake Dist ([-0.21839384865760803, 0.028622449935282682]) \n",
            "Epoch 100: D (0.5814494490623474 real_err, 0.5661861300468445 fake_err) G (0.8089563250541687 err); Real Dist ([4.093212245892733, 1.23168353793898]),  Fake Dist ([4.322987535476685, 0.10969241424403547]) \n",
            "Epoch 200: D (0.7434783577919006 real_err, 0.7096362113952637 fake_err) G (0.6741654872894287 err); Real Dist ([4.057069631367922, 1.2655187577891036]),  Fake Dist ([9.158075954437257, 1.3386077024466345]) \n",
            "Epoch 300: D (0.6425955891609192 real_err, 0.5805995464324951 fake_err) G (0.8441081047058105 err); Real Dist ([4.138885568097233, 1.2626552986221191]),  Fake Dist ([4.770728133201599, 0.15030934794978407]) \n",
            "Epoch 400: D (0.6811633110046387 real_err, 0.6026960015296936 fake_err) G (0.7787960171699524 err); Real Dist ([3.991725901067257, 1.281633912638635]),  Fake Dist ([7.3746629576683045, 1.5683664021957227]) \n",
            "Epoch 500: D (0.7109003067016602 real_err, 0.7003695964813232 fake_err) G (0.6793596744537354 err); Real Dist ([4.019882259398699, 1.234656699962383]),  Fake Dist ([4.1834971084594725, 0.4972066851603799]) \n",
            "Epoch 600: D (0.6932942867279053 real_err, 0.6918916702270508 fake_err) G (0.694021999835968 err); Real Dist ([4.050479571700096, 1.1892780089947128]),  Fake Dist ([4.686281513214111, 1.2997960961575323]) \n",
            "Epoch 700: D (0.6957417130470276 real_err, 0.6916772127151489 fake_err) G (0.6986725330352783 err); Real Dist ([3.991107842862606, 1.248198467946881]),  Fake Dist ([3.901909696340561, 1.4984956803007075]) \n",
            "Epoch 800: D (0.6919240355491638 real_err, 0.6914969086647034 fake_err) G (0.6922701597213745 err); Real Dist ([4.0652426280975344, 1.2361690011192512]),  Fake Dist ([3.993094658613205, 1.3213066443851207]) \n",
            "Epoch 900: D (0.6934605240821838 real_err, 0.6947961449623108 fake_err) G (0.6938086152076721 err); Real Dist ([3.9835428152680397, 1.3030003439017959]),  Fake Dist ([3.9676523916721345, 1.2134173937327437]) \n",
            "Epoch 1000: D (0.7014786005020142 real_err, 0.694127082824707 fake_err) G (0.6919781565666199 err); Real Dist ([3.959053712248802, 1.294461137620476]),  Fake Dist ([3.9976545011997224, 1.2850431419779642]) \n",
            "Epoch 1100: D (0.6925587058067322 real_err, 0.6933708190917969 fake_err) G (0.6922949552536011 err); Real Dist ([3.9604843000769616, 1.1894196599693203]),  Fake Dist ([3.907555743455887, 1.2405237680566457]) \n",
            "Epoch 1200: D (0.6926270723342896 real_err, 0.6950398683547974 fake_err) G (0.6923298835754395 err); Real Dist ([4.043181941866875, 1.2286916811529356]),  Fake Dist ([4.002711310386657, 1.2141797145659856]) \n",
            "Epoch 1300: D (0.6933514475822449 real_err, 0.694460391998291 fake_err) G (0.6948366165161133 err); Real Dist ([3.992333006799221, 1.232496860818672]),  Fake Dist ([3.974162958621979, 1.2528872696962308]) \n",
            "Epoch 1400: D (0.6930011510848999 real_err, 0.6941658854484558 fake_err) G (0.6921926736831665 err); Real Dist ([3.995469953298569, 1.2714431005320797]),  Fake Dist ([3.9846459529399874, 1.2756481819772854]) \n",
            "Epoch 1500: D (0.6934009790420532 real_err, 0.6938073635101318 fake_err) G (0.6924094557762146 err); Real Dist ([4.016363855600357, 1.2001953939491983]),  Fake Dist ([4.025109911203384, 1.2329619544504722]) \n",
            "Epoch 1600: D (0.6922887563705444 real_err, 0.6935315728187561 fake_err) G (0.69329833984375 err); Real Dist ([4.036256558507681, 1.2465710762341127]),  Fake Dist ([3.9665030636787413, 1.2531185946911059]) \n",
            "Epoch 1700: D (0.6925507187843323 real_err, 0.6937063336372375 fake_err) G (0.6933051347732544 err); Real Dist ([4.018980720937252, 1.2330456486659611]),  Fake Dist ([4.021069844484329, 1.2282020968766096]) \n",
            "Epoch 1800: D (0.6936646699905396 real_err, 0.6939098238945007 fake_err) G (0.6920991539955139 err); Real Dist ([3.977654538214207, 1.2237531142456501]),  Fake Dist ([3.948824740886688, 1.2293015412866477]) \n",
            "Epoch 1900: D (0.6919112801551819 real_err, 0.6935855150222778 fake_err) G (0.6919053196907043 err); Real Dist ([4.032754118859768, 1.3009305904627597]),  Fake Dist ([4.107478808641433, 1.1871203410064362]) \n",
            "Epoch 2000: D (0.6925122141838074 real_err, 0.6921176314353943 fake_err) G (0.6932322978973389 err); Real Dist ([4.015378348708153, 1.1856286115880204]),  Fake Dist ([3.937736147880554, 1.185477420059272]) \n",
            "Epoch 2100: D (0.6928088068962097 real_err, 0.6936849355697632 fake_err) G (0.6934304237365723 err); Real Dist ([4.111769460439682, 1.2580624141590415]),  Fake Dist ([3.970107478380203, 1.2581904754297963]) \n",
            "Epoch 2200: D (0.6926134824752808 real_err, 0.6936920881271362 fake_err) G (0.693284273147583 err); Real Dist ([4.021484627395869, 1.2354352922793603]),  Fake Dist ([4.020579966783523, 1.2531609425493941]) \n",
            "Epoch 2300: D (0.6927289366722107 real_err, 0.693077802658081 fake_err) G (0.6925714612007141 err); Real Dist ([4.018776436567307, 1.2249782872315913]),  Fake Dist ([4.026536693096161, 1.2859205163897274]) \n",
            "Epoch 2400: D (0.6925789713859558 real_err, 0.6940341591835022 fake_err) G (0.6922643780708313 err); Real Dist ([3.9399028828144074, 1.1594893112277525]),  Fake Dist ([4.032063494920731, 1.2709754469518264]) \n",
            "Epoch 2500: D (0.6926867961883545 real_err, 0.6934052109718323 fake_err) G (0.6936894059181213 err); Real Dist ([4.026801057070494, 1.192639881089748]),  Fake Dist ([3.974001023769379, 1.271099105184314]) \n",
            "Epoch 2600: D (0.6929992437362671 real_err, 0.6931935548782349 fake_err) G (0.6930029392242432 err); Real Dist ([3.9896654596328736, 1.2961217119242547]),  Fake Dist ([3.929045389175415, 1.224625534983379]) \n",
            "Epoch 2700: D (0.6949461102485657 real_err, 0.693240761756897 fake_err) G (0.6928139328956604 err); Real Dist ([4.04255142506212, 1.2741601550317765]),  Fake Dist ([3.9033617572784425, 1.2595181405743783]) \n",
            "Epoch 2800: D (0.6928638815879822 real_err, 0.692950427532196 fake_err) G (0.6927165985107422 err); Real Dist ([3.935194170475006, 1.2445339192800562]),  Fake Dist ([3.8590661215782167, 1.2624219599836732]) \n",
            "Epoch 2900: D (0.6929405927658081 real_err, 0.693430483341217 fake_err) G (0.6930391788482666 err); Real Dist ([3.949766996204853, 1.2398519966343735]),  Fake Dist ([3.979265357732773, 1.2957327608474845]) \n",
            "Epoch 3000: D (0.6926451921463013 real_err, 0.6937263607978821 fake_err) G (0.6929320096969604 err); Real Dist ([3.959012802988291, 1.2259778540142563]),  Fake Dist ([3.9780651817321777, 1.2434156127659903]) \n",
            "Epoch 3100: D (0.6940053701400757 real_err, 0.6926711797714233 fake_err) G (0.6930015087127686 err); Real Dist ([4.020357559919358, 1.2001684069122416]),  Fake Dist ([3.9737665815353393, 1.3000684871988952]) \n",
            "Epoch 3200: D (0.6925663352012634 real_err, 0.6936804056167603 fake_err) G (0.6931838989257812 err); Real Dist ([4.0070651562213895, 1.189199209248868]),  Fake Dist ([4.0696988453865055, 1.2389971244013072]) \n",
            "Epoch 3300: D (0.6937487721443176 real_err, 0.6935960054397583 fake_err) G (0.6931781768798828 err); Real Dist ([4.070945062875747, 1.3104616695380775]),  Fake Dist ([4.164097700357437, 1.2362616585123287]) \n",
            "Epoch 3400: D (0.6983042359352112 real_err, 0.6928528547286987 fake_err) G (0.693121075630188 err); Real Dist ([3.952512202657759, 1.2542674688492979]),  Fake Dist ([4.067290125131607, 1.216260770673694]) \n",
            "Epoch 3500: D (0.6940087080001831 real_err, 0.6933465003967285 fake_err) G (0.6926707029342651 err); Real Dist ([4.01445291262865, 1.2466636626817864]),  Fake Dist ([4.130702409505844, 1.1941434548675336]) \n",
            "Epoch 3600: D (0.69333416223526 real_err, 0.6935819387435913 fake_err) G (0.6928265690803528 err); Real Dist ([4.08398597741127, 1.263217843197177]),  Fake Dist ([4.010959042549134, 1.218853891483937]) \n",
            "Epoch 3700: D (0.69408118724823 real_err, 0.6929798126220703 fake_err) G (0.6927936673164368 err); Real Dist ([3.950592925384641, 1.2622889766349537]),  Fake Dist ([3.9716693341732023, 1.2181415504110789]) \n",
            "Epoch 3800: D (0.6935314536094666 real_err, 0.6930603981018066 fake_err) G (0.693007230758667 err); Real Dist ([3.9617032413482667, 1.2580549892384647]),  Fake Dist ([3.906214206933975, 1.2026124803086258]) \n",
            "Epoch 3900: D (0.6930656433105469 real_err, 0.6931263208389282 fake_err) G (0.6932859420776367 err); Real Dist ([3.9757850509881973, 1.1803719575411151]),  Fake Dist ([4.021139534473419, 1.2442391867075104]) \n",
            "Epoch 4000: D (0.6933977007865906 real_err, 0.6932275295257568 fake_err) G (0.6927843689918518 err); Real Dist ([3.9886086242496965, 1.2769564195045047]),  Fake Dist ([3.9830946664810183, 1.313603852789168]) \n",
            "Epoch 4100: D (0.6929173469543457 real_err, 0.6936293840408325 fake_err) G (0.6931660175323486 err); Real Dist ([4.049926878988743, 1.3098220124082098]),  Fake Dist ([4.054810059785843, 1.2524517411527458]) \n",
            "Epoch 4200: D (0.6932711601257324 real_err, 0.6936124563217163 fake_err) G (0.6928383708000183 err); Real Dist ([4.003511750102043, 1.255259939607473]),  Fake Dist ([3.9177052936553953, 1.2377120298578324]) \n",
            "Epoch 4300: D (0.6933438181877136 real_err, 0.6933060884475708 fake_err) G (0.6934013366699219 err); Real Dist ([3.8708466002941133, 1.2614916663499463]),  Fake Dist ([4.042577351570129, 1.2086891119929797]) \n",
            "Epoch 4400: D (0.6928605437278748 real_err, 0.6934822201728821 fake_err) G (0.6934350728988647 err); Real Dist ([3.9388154930770396, 1.3018980645032678]),  Fake Dist ([4.061002513408661, 1.2537328518766278]) \n",
            "Epoch 4500: D (0.6931471824645996 real_err, 0.6932772397994995 fake_err) G (0.6929653882980347 err); Real Dist ([3.8569531393349172, 1.3253349125104321]),  Fake Dist ([4.01301913523674, 1.2603551397850004]) \n",
            "Epoch 4600: D (0.6930752992630005 real_err, 0.693290114402771 fake_err) G (0.6932152509689331 err); Real Dist ([4.063533615469932, 1.2114560490747663]),  Fake Dist ([4.005250296115875, 1.2832352670629863]) \n",
            "Epoch 4700: D (0.6933674216270447 real_err, 0.6931898593902588 fake_err) G (0.6931105852127075 err); Real Dist ([4.039771288394928, 1.22475190178553]),  Fake Dist ([4.048252771377563, 1.2348366985910588]) \n",
            "Epoch 4800: D (0.6929636001586914 real_err, 0.6932278871536255 fake_err) G (0.6926908493041992 err); Real Dist ([4.015481767624617, 1.2310324961626389]),  Fake Dist ([3.9872366964817045, 1.2640281366645911]) \n",
            "Epoch 4900: D (0.6934126615524292 real_err, 0.6935587525367737 fake_err) G (0.6927605271339417 err); Real Dist ([3.987363741874695, 1.2881658124620068]),  Fake Dist ([3.9940819702148436, 1.2239558123308787]) \n",
            "Plotting the generated distribution...\n",
            " Values: [3.0973033905029297, 4.4230194091796875, 5.4899396896362305, 5.457366943359375, 3.831974983215332, 3.188448905944824, 1.8948123455047607, 4.030185222625732, 3.6781129837036133, 3.9117331504821777, 4.116211414337158, 6.8286027908325195, 6.161769866943359, 2.9193804264068604, 5.364058971405029, 5.021951675415039, 3.497256278991699, 4.423355579376221, 3.6122570037841797, 3.0124988555908203, 6.103515625, 2.966418743133545, 3.1350455284118652, 3.9056947231292725, 4.863229751586914, 5.4262800216674805, 3.0934526920318604, 4.432040691375732, 4.081620216369629, 3.1836462020874023, 4.2932233810424805, 5.82008171081543, 4.5437517166137695, 5.233340263366699, 5.866696357727051, 3.645010471343994, 3.1745262145996094, 5.104952335357666, 4.209710121154785, 3.424630641937256, 4.818794250488281, 3.8067829608917236, 4.069219589233398, 4.943880081176758, 2.4165139198303223, 3.9587302207946777, 2.382662296295166, 3.1995272636413574, 3.8817765712738037, 3.6918020248413086, 2.7456932067871094, 4.556920528411865, 4.410971164703369, 6.277935028076172, 3.7109129428863525, 4.102532386779785, 2.658397674560547, 4.373271942138672, 3.477344274520874, 2.271228790283203, 3.927611827850342, 3.800032615661621, 2.8378381729125977, 3.8727898597717285, 4.779743194580078, 3.6252129077911377, 3.606846809387207, 6.379583358764648, 6.578158378601074, 2.3846540451049805, 4.212150573730469, 4.446418762207031, 5.201936721801758, 3.443758010864258, 3.9287428855895996, 4.902284622192383, 4.025701999664307, 3.9368062019348145, 6.209590435028076, 3.918478488922119, 3.0212817192077637, 6.682559013366699, 2.9506020545959473, 1.1849393844604492, 5.038688659667969, 4.333880424499512, 5.960146903991699, 5.109633445739746, 3.3210883140563965, 3.4978768825531006, 1.1432082653045654, 3.1917765140533447, 3.821758985519409, 2.998619318008423, 4.888301849365234, 3.7983832359313965, 3.5915560722351074, 3.7106192111968994, 3.5055599212646484, 4.571887016296387, 2.840637683868408, 2.5040407180786133, 3.5831360816955566, 4.046123504638672, 4.005839824676514, 3.331535816192627, 3.9158008098602295, 5.334127426147461, 3.627876043319702, 4.492000579833984, 2.5065858364105225, 3.532892942428589, 6.276548385620117, 4.020730018615723, 3.6752243041992188, 4.158987998962402, 3.075680732727051, 3.769533157348633, 4.440960884094238, 2.8753693103790283, 4.3025312423706055, 0.8639817237854004, 3.6214375495910645, 3.0320630073547363, 4.028815746307373, 1.566462516784668, 4.241214752197266, 3.2972800731658936, 6.048363208770752, 5.038661956787109, 4.098948001861572, 2.7414517402648926, 4.023246765136719, 3.5981791019439697, 2.338007926940918, 4.159850120544434, 4.574319839477539, 3.9863510131835938, 2.984938144683838, 3.2539005279541016, 4.137481212615967, 5.996542930603027, 6.253245830535889, 3.86018443107605, 0.882515549659729, 1.493757724761963, 1.2685956954956055, 5.197023391723633, 4.5041656494140625, 4.6598100662231445, 3.207463264465332, 3.07432222366333, 3.126765251159668, 4.248473644256592, 4.288807392120361, 4.422389030456543, 3.0312020778656006, 5.585293769836426, 5.677716255187988, 3.5846290588378906, 2.2924981117248535, 3.9810421466827393, 4.510799884796143, 6.696500778198242, 3.4381885528564453, 4.404031753540039, 2.533383369445801, 4.002508163452148, 5.369961738586426, 4.07960319519043, 3.212400436401367, 5.096988677978516, 3.8636605739593506, 4.094827651977539, 4.652670860290527, 3.5993475914001465, 3.407341957092285, 3.7883124351501465, 1.7233465909957886, 3.744804859161377, 2.845644235610962, 3.2911887168884277, 3.9639687538146973, 1.8805055618286133, 4.606152534484863, 3.0546622276306152, 3.4099206924438477, 3.381977081298828, 4.844141006469727, 3.8918542861938477, 3.6021885871887207, 5.5413618087768555, 4.172104835510254, 3.32193660736084, 3.502182722091675, 3.0878334045410156, 2.8761343955993652, 6.149731636047363, 6.6923017501831055, 4.276628017425537, 3.0786759853363037, 0.9826946258544922, 5.388726234436035, 3.8490099906921387, 3.4888362884521484, 3.7584400177001953, 3.962697744369507, 6.819262504577637, 3.5964231491088867, 4.342629909515381, 3.9400858879089355, 3.6546106338500977, 3.723346471786499, 2.799482822418213, 3.608841896057129, 4.425440311431885, 4.605403900146484, 5.16897439956665, 3.583120346069336, 3.6196112632751465, 6.558974266052246, 3.472996234893799, 1.5145113468170166, 3.1369831562042236, 5.302373886108398, 5.032266139984131, 3.266416549682617, 4.572835922241211, 2.311405897140503, 5.885605812072754, 3.5956878662109375, 4.068432807922363, 3.6833770275115967, 4.80427885055542, 3.86620831489563, 5.822793006896973, 4.632874488830566, 3.751352310180664, 3.179368019104004, 3.8025293350219727, 3.630218744277954, 4.078138828277588, 2.8329851627349854, 5.428417682647705, 3.786850929260254, 4.034762382507324, 4.4043498039245605, 4.580735206604004, 4.687439918518066, 4.4054107666015625, 5.120588302612305, 3.273099899291992, 2.0357320308685303, 2.06237530708313, 3.4650840759277344, 3.882359266281128, 4.494503974914551, 3.9338936805725098, 4.457856178283691, 3.8387629985809326, 5.0515336990356445, 5.509088516235352, 3.5498883724212646, 6.65240478515625, 3.4158802032470703, 3.533703327178955, 2.8604679107666016, 6.801314353942871, 3.6131432056427, 1.417695164680481, 3.6781060695648193, 6.837355613708496, 3.780987501144409, 3.6285629272460938, 5.5473833084106445, 5.397304534912109, 3.235414505004883, 3.3162007331848145, 3.4405596256256104, 3.3793599605560303, 2.9284281730651855, 5.196687698364258, 3.7994251251220703, 4.453381061553955, 3.8786091804504395, 0.9991540908813477, 4.5450029373168945, 6.598628044128418, 3.862201690673828, 6.3511810302734375, 3.650352954864502, 4.244487762451172, 3.2154464721679688, 3.915418863296509, 6.1413679122924805, 4.013272762298584, 2.185709238052368, 4.8318986892700195, 4.285242557525635, 4.087211608886719, 4.075865268707275, 4.355249881744385, 1.3908696174621582, 3.4538798332214355, 3.830181121826172, 3.3880252838134766, 3.47532057762146, 3.6528759002685547, 6.187272071838379, 2.9358487129211426, 5.539727210998535, 2.6810333728790283, 3.8109912872314453, 5.313115119934082, 3.898195266723633, 5.428387641906738, 4.478172302246094, 5.105751991271973, 3.494403123855591, 0.9182330369949341, 3.2391018867492676, 4.406003952026367, 3.6857547760009766, 4.279782772064209, 2.135145664215088, 4.448515892028809, 1.9529637098312378, 3.672211170196533, 5.764462471008301, 4.645183563232422, 6.160278797149658, 2.9284157752990723, 3.6842293739318848, 5.597624778747559, 6.378597259521484, 3.028587818145752, 3.519786834716797, 5.390467643737793, 3.2870447635650635, 3.908846616744995, 4.389463424682617, 6.40205717086792, 6.0312700271606445, 3.611884355545044, 3.9640026092529297, 5.026068687438965, 6.794279098510742, 2.9660191535949707, 6.226953983306885, 4.642821311950684, 3.242621898651123, 1.0588762760162354, 3.676774501800537, 4.077475547790527, 3.7100605964660645, 5.322391510009766, 2.2451558113098145, 3.586824655532837, 6.227546691894531, 6.494964599609375, 3.334235668182373, 4.339059352874756, 3.8379368782043457, 4.247059345245361, 3.361295700073242, 4.675606727600098, 4.061232566833496, 4.599196910858154, 3.274826765060425, 4.264329433441162, 3.2617690563201904, 4.895334243774414, 3.43149995803833, 3.917707920074463, 3.461263656616211, 3.4703924655914307, 3.6805367469787598, 6.633357048034668, 1.6381151676177979, 3.566077709197998, 4.68696403503418, 3.6815648078918457, 4.581896781921387, 4.325734615325928, 5.166669845581055, 4.363182067871094, 2.3855161666870117, 5.195640563964844, 4.300259590148926, 3.785675287246704, 3.7889726161956787, 3.875169515609741, 4.315548896789551, 6.230934143066406, 6.258880615234375, 4.735906600952148, 3.441983461380005, 3.969755172729492, 4.444851875305176, 4.437435626983643, 3.629788875579834, 3.490692138671875, 2.732466459274292, 4.931368827819824, 4.714731216430664, 6.130171775817871, 4.545909404754639, 4.168366432189941, 4.719718933105469, 3.5126476287841797, 5.750186443328857, 2.435887098312378, 3.854295015335083, 6.846881866455078, 2.9810104370117188, 3.190808057785034, 4.082345008850098, 3.583404302597046, 6.150547981262207, 6.700231552124023, 5.141097068786621, 4.705196380615234, 6.811840057373047, 4.027866363525391, 2.70099139213562, 2.16140079498291, 6.708054542541504, 4.080336570739746, 3.735956907272339, 3.7408721446990967, 3.804455518722534, 2.181594133377075, 5.241232872009277, 3.509192943572998, 4.216902256011963, 4.448863983154297, 6.268527030944824, 4.098772048950195, 6.597011566162109, 3.6748709678649902, 4.76080322265625, 3.8798577785491943, 6.5534210205078125, 1.718149185180664, 6.033791542053223, 4.2400617599487305, 3.860543727874756, 3.704712152481079, 5.774144172668457, 4.079524993896484, 2.6472742557525635, 4.846893787384033, 2.3431644439697266, 3.2592825889587402, 4.014497756958008, 3.2097973823547363, 2.149698257446289, 3.107863664627075, 4.458569049835205, 3.76483154296875, 2.6556167602539062, 4.0226874351501465, 5.646584987640381, 5.540976524353027, 3.989302158355713, 4.818854331970215, 1.4807782173156738, 3.528423547744751, 4.377048492431641, 4.110324859619141, 3.284278392791748, 3.3195981979370117, 4.954687118530273, 0.8642125129699707, 6.450870513916016, 4.674520492553711, 2.6766579151153564, 3.7453298568725586, 3.831852436065674, 2.5380024909973145, 5.096092224121094, 1.5734450817108154, 3.790968894958496, 3.790876626968384, 3.7920188903808594, 3.572577476501465, 3.8795671463012695, 4.4233903884887695, 2.97298526763916, 2.7406980991363525, 3.410158157348633, 2.906986713409424, 2.4507968425750732, 5.562807083129883, 1.7424120903015137, 3.809114456176758, 6.7941999435424805, 4.148674488067627, 3.6616663932800293, 2.9474096298217773]\n"
          ]
        },
        {
          "output_type": "display_data",
          "data": {
            "text/plain": [
              "<Figure size 640x480 with 1 Axes>"
            ],
            "image/png": "[encoded data removed]"
          },
          "metadata": {}
        }
      ]
    }
  ]
}