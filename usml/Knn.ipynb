{
  "cells": [
    {
      "cell_type": "markdown",
      "metadata": {
        "id": "lzNaGw6mpKpe"
      },
      "source": [
        "# K-Nearest Neighbors Algorithm\n"
      ]
    },
    {
      "cell_type": "markdown",
      "metadata": {
        "id": "6qynN-z0pKpf"
      },
      "source": [
        "In this Jupyter Notebook we will focus on $KNN-Algorithm$. KNN is a data classification algorithm that attempts to determine what group a data point is in by looking at the data points around it.\n",
        "\n",
        "An algorithm, looking at one point on a grid, trying to determine if a point is in group A or B, looks at the states of the points that are near it. The range is arbitrarily determined, but the point is to take a sample of the data. If the majority of the points are in group A, then it is likely that the data point in question will be A rather than B, and vice versa.\n",
        "<br>\n",
        "\n",
        "<img src=\"https://github.com/tugot17/KNN-Algorithm-From-Scratch/blob/master/knn/example%201.png?raw=1\"  height=\"30%\" width=\"30%\">\n"
      ]
    },
    {
      "cell_type": "markdown",
      "metadata": {
        "id": "s16dwTggpKpf"
      },
      "source": [
        "# Imports"
      ]
    },
    {
      "cell_type": "code",
      "execution_count": null,
      "metadata": {
        "id": "bh1dA0X7pKpf"
      },
      "outputs": [],
      "source": [
        "import numpy as np\n",
        "from tqdm import tqdm_notebook"
      ]
    },
    {
      "cell_type": "markdown",
      "metadata": {
        "id": "jYZMZRI6pKpg"
      },
      "source": [
        "# How it works?\n",
        "\n",
        "We have some labeled data set $X-train$, and a new set $X$ that we want to classify based on previous classyfications\n",
        "\n"
      ]
    },
    {
      "cell_type": "markdown",
      "metadata": {
        "id": "3CXohR4GpKpg"
      },
      "source": [
        "## Seps"
      ]
    },
    {
      "cell_type": "markdown",
      "metadata": {
        "id": "vg9GpM5fpKpg"
      },
      "source": [
        "### 1. Calculate distance to all neightbours\n",
        "### 2. Sort neightbours (based on closest distance)\n",
        "### 3. Count possibilities of each class for k nearest neighbours \n",
        "### 4. The class with highest possibilty is Your prediction"
      ]
    },
    {
      "cell_type": "markdown",
      "metadata": {
        "id": "_GbcAK-8pKpg"
      },
      "source": [
        "# 1. Calculate distance to all neighbours\n",
        "\n",
        "Depending on the problem You should use diffrent type of count distance method.\n",
        "<br>\n",
        "For example we can use Euclidean distance. Euclidean distance is the \"ordinary\" straight-line distance between two points in D-Dimensional space\n",
        "\n",
        "#### Definiton\n",
        "$d(p, q) = d(q, p) = \\sqrt{(q_1 - p_1)^2 + (q_2 - p_2)^2 + \\dots + (q_D - p_D)^2} = \\sum_{d=1}^{D} (p_d - q_d)^2$\n",
        "\n",
        "#### Example\n",
        "Distance in $R^2$\n",
        "<img src=\"https://github.com/tugot17/KNN-Algorithm-From-Scratch/blob/master/knn/euklidean_example.png?raw=1\"  height=\"30%\" width=\"30%\">\n",
        "\n",
        "\n",
        "$p = (4,6)$\n",
        "<br>\n",
        "$q = (1,2)$\n",
        "<br>\n",
        "$d(p, q) = \\sqrt{(1-4)^2 + (2-6)^2} =\\sqrt{9 + 16} = \\sqrt{25} = 5 $\n",
        "\n"
      ]
    },
    {
      "cell_type": "markdown",
      "metadata": {
        "id": "e1cpt2WepKpg"
      },
      "source": [
        "## Code"
      ]
    },
    {
      "cell_type": "code",
      "execution_count": null,
      "metadata": {
        "id": "h5x38CPqpKpg"
      },
      "outputs": [],
      "source": [
        "def get_euclidean_distance(A_matrix, B_matrix):\n",
        "    \"\"\"\n",
        "    Function computes euclidean distance between matrix A and B\n",
        "    Args:\n",
        "        A_matrix (numpy.ndarray): Matrix size N1:D\n",
        "        B_matrix (numpy.ndarray): Matrix size N2:D\n",
        "\n",
        "    Returns:\n",
        "        numpy.ndarray: Matrix size N1:N2\n",
        "    \"\"\"\n",
        "\n",
        "    A_square = np.reshape(np.sum(A_matrix * A_matrix, axis=1), (A_matrix.shape[0], 1))\n",
        "    B_square = np.reshape(np.sum(B_matrix * B_matrix, axis=1), (1, B_matrix.shape[0]))\n",
        "    AB = A_matrix @ B_matrix.T\n",
        "\n",
        "    C = -2 * AB + B_square + A_square\n",
        "\n",
        "    return np.sqrt(C)"
      ]
    },
    {
      "cell_type": "markdown",
      "metadata": {
        "id": "zGHFKVgKpKph"
      },
      "source": [
        "## Example Usage"
      ]
    },
    {
      "cell_type": "code",
      "execution_count": null,
      "metadata": {
        "id": "XWbfyrPApKph",
        "outputId": "7ed41d42-187c-4d47-f53d-6bd61521f063"
      },
      "outputs": [
        {
          "name": "stdout",
          "output_type": "stream",
          "text": [
            "X: 2 Exaples in 3 Dimensional space\n",
            "X_train: 4 Exaples in 3 Dimensional space\n",
            "\n",
            "X:\n",
            "[[ 1  2  3]\n",
            " [-4  5 -6]]\n",
            "\n",
            "X_train\n",
            "[[ 0  0  0]\n",
            " [ 1  2  3]\n",
            " [ 4  5  6]\n",
            " [-4  4 -6]]\n"
          ]
        }
      ],
      "source": [
        "X = np.array([[1,2,3] , [-4,5,-6]])\n",
        "\n",
        "X_train = np.array([[0,0,0], [1,2,3], [4,5,6], [-4, 4, -6]])\n",
        "\n",
        "print(\"X: {} Exaples in {} Dimensional space\".format(*X.shape))\n",
        "print(\"X_train: {} Exaples in {} Dimensional space\".format(*X_train.shape))\n",
        "\n",
        "\n",
        "print()\n",
        "\n",
        "print(\"X:\")\n",
        "print(X)\n",
        "\n",
        "print()\n",
        "\n",
        "print(\"X_train\")\n",
        "print(X_train)\n"
      ]
    },
    {
      "cell_type": "code",
      "execution_count": null,
      "metadata": {
        "id": "cr7gU9bapKph",
        "outputId": "548a29fb-7c0d-4315-ac35-237a1e8fa727"
      },
      "outputs": [
        {
          "name": "stdout",
          "output_type": "stream",
          "text": [
            "Distance Matrix shape: (2, 4)\n",
            "Distance between first example from X and first form X_train 3.7416573867739413\n",
            "Distance between first example from X and second form X_train 0.0\n"
          ]
        }
      ],
      "source": [
        "distance_matrix = get_euclidean_distance(X, X_train)\n",
        "\n",
        "print(\"Distance Matrix shape: {}\".format(distance_matrix.shape))\n",
        "print(\"Distance between first example from X and first form X_train {}\".format(distance_matrix[0,0]))\n",
        "print(\"Distance between first example from X and second form X_train {}\".format(distance_matrix[0,1]))\n"
      ]
    },
    {
      "cell_type": "markdown",
      "metadata": {
        "id": "hp_I4NJPpKph"
      },
      "source": [
        "# 2. Sort neightbours\n",
        "\n",
        "In order to find best fitting class for our observations we need to find to which classes belong observation neightbours and then to sort classes based on the closest distance\n"
      ]
    },
    {
      "cell_type": "markdown",
      "metadata": {
        "id": "7dO5hJF1pKpi"
      },
      "source": [
        "## Code"
      ]
    },
    {
      "cell_type": "code",
      "execution_count": null,
      "metadata": {
        "id": "WyrX_DmypKpi"
      },
      "outputs": [],
      "source": [
        "def get_sorted_train_labels(distance_matrix, y):\n",
        "    \"\"\"\n",
        "    Function sorts y labels, based on probabilities from distances matrix\n",
        "    Args:\n",
        "        distance_matrix (numpy.ndarray): Distance Matrix, between points from X and X_train, size: N1:N2\n",
        "        y (numpy.ndarray): vector of classes of X points, size: N1\n",
        "\n",
        "    Returns:\n",
        "        numpy.ndarray: labels matrix sorted according to distances to nearest neightours, size N1:N2 \n",
        "\n",
        "    \"\"\"\n",
        "    order = distance_matrix.argsort(kind='mergesort')\n",
        "\n",
        "    return np.squeeze(y[order])\n"
      ]
    },
    {
      "cell_type": "markdown",
      "metadata": {
        "id": "aneSoXeMpKpi"
      },
      "source": [
        "## Example Usage"
      ]
    },
    {
      "cell_type": "code",
      "execution_count": null,
      "metadata": {
        "id": "PsAxIYn8pKpi",
        "outputId": "b340041b-1054-44f9-db4a-06f1a031dc9a"
      },
      "outputs": [
        {
          "name": "stdout",
          "output_type": "stream",
          "text": [
            "Labels array 4 Examples in 1 Dimensional Space\n",
            "Distance matrix shape (2, 4)\n",
            "Sorted train labels (2, 4) shape\n",
            "Closest 3 classes for first element from set X: [1 1 2]\n"
          ]
        }
      ],
      "source": [
        "y_train = np.array([[1, 1, 2, 3]]).T\n",
        "print(\"Labels array {} Examples in {} Dimensional Space\".format(*y_train.shape))\n",
        "\n",
        "print(\"Distance matrix shape {}\".format(distance_matrix.shape))\n",
        "\n",
        "sorted_train_labels = get_sorted_train_labels(distance_matrix, y_train)\n",
        "\n",
        "print(\"Sorted train labels {} shape\".format(sorted_train_labels.shape))\n",
        "print(\"Closest 3 classes for first element from set X: {}\".format(sorted_train_labels[0, :3]))"
      ]
    },
    {
      "cell_type": "markdown",
      "metadata": {
        "id": "uXVxhO1JpKpi"
      },
      "source": [
        "# 3. Count possibilities of each class for k nearest neighbours \n",
        "\n",
        "In order to find best class for our observation $x$ we need to calculate the probability of belonging to each class. In our case it is quite easy. We need just to count how many from k-nearest-neighbours of observation $x$ belong to each class and then devide it by k \n",
        "<br><br>\n",
        "$p(y=class \\space| x)  = \\frac{\\sum_{1}^{k}(1 \\space if \\space N_i = class, \\space else \\space 0) }{k}$ Where $N_i$ is $i$ nearest neightbour\n",
        "\n"
      ]
    },
    {
      "cell_type": "markdown",
      "metadata": {
        "id": "23Ek_HtfpKpi"
      },
      "source": [
        "## Code"
      ]
    },
    {
      "cell_type": "code",
      "execution_count": null,
      "metadata": {
        "id": "eWpqji-cpKpi"
      },
      "outputs": [],
      "source": [
        "def get_p_y_x_using_knn(y, k):\n",
        "    \"\"\"\n",
        "    The function determines the probability distribution p (y | x)\n",
        "    for each of the labels for objects from the X\n",
        "    using the KNN classification learned on the X_train\n",
        "\n",
        "    Args:\n",
        "        y (numpy.ndarray): Sorted matrix of N2 nearest neighbours labels, size N1:N2\n",
        "        k (int): number of nearest neighbours for KNN algorithm\n",
        "\n",
        "    Returns: numpy.ndarray: Matrix of probabilities for N1 points (from set X) of belonging to each class,\n",
        "    size N1:C (where C is number of classes)\n",
        "    \"\"\"\n",
        "\n",
        "    first_k_neighbors = y[:, :k]\n",
        "    \n",
        "    N1, N2 = y.shape\n",
        "    classes = np.unique(y)\n",
        "    number_of_classes = classes.shape[0]\n",
        "\n",
        "    probabilities_matrix = np.zeros(shape=(N1, number_of_classes))\n",
        "\n",
        "    for i, row in enumerate(first_k_neighbors):\n",
        "        for j, value in enumerate(classes):\n",
        "            probabilities_matrix[i][j] = list(row).count(value) / k\n",
        "\n",
        "    return probabilities_matrix\n"
      ]
    },
    {
      "cell_type": "markdown",
      "metadata": {
        "id": "lTpDPZSDpKpi"
      },
      "source": [
        "## Example usage"
      ]
    },
    {
      "cell_type": "code",
      "execution_count": null,
      "metadata": {
        "id": "jh10mw6apKpi",
        "outputId": "4af6cd10-de2f-47fd-bac4-3c686aa4dd66"
      },
      "outputs": [
        {
          "name": "stdout",
          "output_type": "stream",
          "text": [
            "Sorted train labels:\n",
            "[[1 1 2 3]\n",
            " [3 1 1 2]]\n",
            "Probability fisrt element belongs to 1-st class: 0.500000\n",
            "Probability fisrt element belongs to 3-rd class: 0.250000\n"
          ]
        }
      ],
      "source": [
        "print(\"Sorted train labels:\")\n",
        "print(sorted_train_labels)\n",
        "\n",
        "probabilities_matrix = get_p_y_x_using_knn(y=sorted_train_labels, k=4)\n",
        "\n",
        "\n",
        "\n",
        "print(\"Probability fisrt element belongs to 1-st class: {:2f}\".format(probabilities_matrix[0,0]))\n",
        "print(\"Probability fisrt element belongs to 3-rd class: {:2f}\".format(probabilities_matrix[0,2]))\n",
        "\n"
      ]
    },
    {
      "cell_type": "markdown",
      "metadata": {
        "id": "7aVR5S_9pKpi"
      },
      "source": [
        "# 4. The class with highest possibilty is Your prediction"
      ]
    },
    {
      "cell_type": "markdown",
      "metadata": {
        "id": "OsFOb8oVpKpi"
      },
      "source": [
        "At the end we combine all previous steps to get prediction"
      ]
    },
    {
      "cell_type": "markdown",
      "metadata": {
        "id": "6228cQS8pKpi"
      },
      "source": [
        "## Code"
      ]
    },
    {
      "cell_type": "code",
      "execution_count": null,
      "metadata": {
        "id": "h-mZNeozpKpi"
      },
      "outputs": [],
      "source": [
        "def predict(X, X_train, y_train, k, distance_function):\n",
        "    \"\"\"\n",
        "    Function returns predictions for new set X based on labels of points from X_train\n",
        "    Args:\n",
        "        X (numpy.ndarray): set of observations (points) that we want to label\n",
        "        X_train (numpy.ndarray): set of lalabeld bservations (points)\n",
        "        y_train (numpy.ndarray): labels for X_train\n",
        "        k (int): number of nearest neighbours for KNN algorithm\n",
        "\n",
        "    Returns:\n",
        "        (numpy.ndarray): label predictions for points from set X\n",
        "    \"\"\"\n",
        "    distance_matrix = distance_function(X, X_train)\n",
        "\n",
        "    sorted_labels = get_sorted_train_labels(distance_matrix=distance_matrix, y=y_train)\n",
        "    \n",
        "    p_y_x = get_p_y_x_using_knn(y=sorted_labels, k=k)\n",
        "\n",
        "    number_of_classes = p_y_x.shape[1]\n",
        "    reversed_rows = np.fliplr(p_y_x)\n",
        "\n",
        "    prediction = number_of_classes - (np.argmax(reversed_rows, axis=1) + 1)\n",
        "\n",
        "    return prediction"
      ]
    },
    {
      "cell_type": "markdown",
      "metadata": {
        "id": "nZrYvvmzpKpj"
      },
      "source": [
        "## Example usage"
      ]
    },
    {
      "cell_type": "code",
      "execution_count": null,
      "metadata": {
        "id": "Ec9UE6qxpKpj",
        "outputId": "b45ca22e-55bf-41d4-aefb-f0c10e9dd3de"
      },
      "outputs": [
        {
          "name": "stdout",
          "output_type": "stream",
          "text": [
            "Predicted propabilities of classes for for first observation [0.5  0.25 0.25]\n",
            "Predicted class for for first observation 0\n",
            "\n",
            "Predicted propabilities of classes for for second observation [0.5  0.25 0.25]\n",
            "Predicted class for for second observation 0\n"
          ]
        }
      ],
      "source": [
        "prediction = predict(X, X_train, y_train, 3, get_euclidean_distance)\n",
        "\n",
        "print(\"Predicted propabilities of classes for for first observation\", probabilities_matrix[0])\n",
        "print(\"Predicted class for for first observation\", prediction[0])\n",
        "\n",
        "print()\n",
        "\n",
        "print(\"Predicted propabilities of classes for for second observation\", probabilities_matrix[1])\n",
        "print(\"Predicted class for for second observation\", prediction[1])"
      ]
    },
    {
      "cell_type": "markdown",
      "metadata": {
        "id": "prqF81mYpKpj"
      },
      "source": [
        "# Accuracy"
      ]
    },
    {
      "cell_type": "markdown",
      "metadata": {
        "id": "VQO_DY17pKpj"
      },
      "source": [
        "To find how good our knn model works we should count accuracy"
      ]
    },
    {
      "cell_type": "markdown",
      "metadata": {
        "id": "pTw5cTwRpKpj"
      },
      "source": [
        "## Code"
      ]
    },
    {
      "cell_type": "code",
      "execution_count": null,
      "metadata": {
        "id": "xfc3oTZNpKpj"
      },
      "outputs": [],
      "source": [
        "def count_accuracy(prediction, y_true):\n",
        "    \"\"\"\n",
        "    Returns:\n",
        "        float: Predictions accuracy\n",
        "\n",
        "    \"\"\"\n",
        "    N1 = prediction.shape[0]\n",
        "    \n",
        "    accuracy = np.sum(prediction == y_true) / N1\n",
        "\n",
        "    return accuracy"
      ]
    },
    {
      "cell_type": "markdown",
      "metadata": {
        "id": "KuZ4w4XppKpj"
      },
      "source": [
        "## Example usage"
      ]
    },
    {
      "cell_type": "code",
      "execution_count": null,
      "metadata": {
        "id": "s5CqiXQupKpj",
        "outputId": "db07439c-6300-44f0-9cd6-4818e0b7b847"
      },
      "outputs": [
        {
          "name": "stdout",
          "output_type": "stream",
          "text": [
            "True classes:[[0 2]], accuracy 50.0%\n"
          ]
        }
      ],
      "source": [
        "y_true = np.array([[0, 2]])\n",
        "\n",
        "predicton = predict(X, X_train, y_train, 3, get_euclidean_distance)\n",
        "\n",
        "\n",
        "print(\"True classes:{}, accuracy {}%\".format(y_true, count_accuracy(predicton, y_true)  * 100))"
      ]
    },
    {
      "cell_type": "markdown",
      "metadata": {
        "id": "SFe1IwXppKpj"
      },
      "source": [
        "# Find best k"
      ]
    },
    {
      "cell_type": "markdown",
      "metadata": {
        "id": "y307p8g4pKpj"
      },
      "source": [
        "Best k parameter is that one for which we have highest accuracy"
      ]
    },
    {
      "cell_type": "markdown",
      "metadata": {
        "id": "e222uvXxpKpj"
      },
      "source": [
        "## Code"
      ]
    },
    {
      "cell_type": "code",
      "execution_count": null,
      "metadata": {
        "id": "cT8kjupQpKpj"
      },
      "outputs": [],
      "source": [
        "def select_knn_model(X_validation, y_validation, X_train, y_train, k_values, distance_function):\n",
        "    \"\"\"\n",
        "    Function returns k parameter that best fit Xval points\n",
        "    Args:\n",
        "        Xval (numpy.ndarray): set of Validation Data, size N1:D\n",
        "        Xtrain (numpy.ndarray): set of Training Data, size N2:D\n",
        "        yval (numpy.ndarray): set of labels for Validation data, size N1:1\n",
        "        ytrain (numpy.ndarray): set of labels for Training Data, size N2:1\n",
        "        k_values (list): list of int values of k parameter that should be checked\n",
        "\n",
        "    Returns:\n",
        "        int: k paprameter that best fit validation set\n",
        "    \"\"\"\n",
        "\n",
        "    accuracies = []\n",
        "\n",
        "    for k in tqdm_notebook(k_values):\n",
        "        prediction = predict(X_validation, X_train, y_train, k, distance_function)\n",
        "\n",
        "        accuracy = count_accuracy(prediction, y_validation)\n",
        "        accuracies.append(accuracy)\n",
        "\n",
        "    best_k = k_values[accuracies.index(max(accuracies))]\n",
        "\n",
        "    return best_k, accuracies\n"
      ]
    },
    {
      "cell_type": "markdown",
      "metadata": {
        "id": "C1RzwS2npKpj"
      },
      "source": [
        "# Real World Example - Iris Dataset"
      ]
    },
    {
      "cell_type": "markdown",
      "metadata": {
        "id": "X0WPD1nrpKpj"
      },
      "source": [
        "\n",
        "<img src=\"https://github.com/tugot17/KNN-Algorithm-From-Scratch/blob/master/knn/iris_example1.jpeg?raw=1\"  height=\"60%\" width=\"60%\">\n",
        "\n",
        "\n",
        "This is perhaps the best known database to be found in the pattern recognition literature. The data set contains 3 classes of 50 instances each, where each class refers to a type of iris plant. One class is linearly separable from the other 2; the latter are NOT linearly separable from each other. \n",
        "\n",
        "Each example contains 4 attributes\n",
        "1. sepal length in cm \n",
        "2. sepal width in cm \n",
        "3. petal length in cm \n",
        "4. petal width in cm \n",
        "\n",
        "Predicted attribute: class of iris plant. \n",
        "\n",
        "<img src=\"https://github.com/tugot17/KNN-Algorithm-From-Scratch/blob/master/knn/iris_example2.png?raw=1\"  height=\"70%\" width=\"70%\">\n",
        "\n",
        "\n",
        "\n",
        "\n"
      ]
    },
    {
      "cell_type": "code",
      "execution_count": null,
      "metadata": {
        "id": "7L0jmHvwpKpj",
        "outputId": "50f5810e-2134-4998-fb0a-7fd8b3af1927"
      },
      "outputs": [
        {
          "name": "stdout",
          "output_type": "stream",
          "text": [
            "Iris: 150 examples in 4 dimensional space\n",
            "First example in dataset :\n",
            " Speal lenght: 5.1cm \n",
            " Speal width: 3.5cm \n",
            " Petal length: 1.4cm \n",
            " Petal width: 0.2cm\n",
            "Avalible classes [0 1 2]\n"
          ]
        }
      ],
      "source": [
        "from sklearn import datasets\n",
        "import matplotlib.pyplot as plt\n",
        "\n",
        "iris = datasets.load_iris()\n",
        "\n",
        "iris_X = iris.data\n",
        "iris_y = iris.target\n",
        "\n",
        "print(\"Iris: {} examples in {} dimensional space\".format(*iris_X.shape))\n",
        "print(\"First example in dataset :\\n Speal lenght: {}cm \\n Speal width: {}cm \\n Petal length: {}cm \\n Petal width: {}cm\".format(*iris_X[0]))\n",
        "\n",
        "print(\"Avalible classes\", np.unique(iris_y))"
      ]
    },
    {
      "cell_type": "markdown",
      "metadata": {
        "id": "6X6_UaSJpKpj"
      },
      "source": [
        "## Prepare Data\n",
        "\n",
        "In our data set we have 150 examples (50 examples of each class), we have to divide it into 3 datasets.\n",
        "1. Training data set, 90 examples. It will be used to find  k - nearest neightbours\n",
        "2. Validation data set, 30 examples. It will be used to find best k parameter, the one for which accuracy is highest\n",
        "3. Test data set, 30 examples. It will be used to check how good our model performs\n",
        "\n",
        "Data has to be shuffled (mixed in random order), because originally it is stored 50 examples of class 0, 50 of 1 and 50 of 2.\n"
      ]
    },
    {
      "cell_type": "code",
      "execution_count": null,
      "metadata": {
        "id": "XqRdxSZupKpk"
      },
      "outputs": [],
      "source": [
        "from sklearn.utils import shuffle\n",
        "\n",
        "iris_X, iris_y = shuffle(iris_X, iris_y, random_state=134)\n",
        "\n",
        "\n",
        "test_size = 30\n",
        "validation_size = 30\n",
        "training_size = 90\n",
        "\n",
        "X_test = iris_X[:test_size]\n",
        "X_validation = iris_X[test_size: (test_size+validation_size)]\n",
        "X_train = iris_X[(test_size+validation_size):]\n",
        "\n",
        "y_test = iris_y[:test_size]\n",
        "y_validation = iris_y[test_size: (test_size+validation_size)]\n",
        "y_train = iris_y[(test_size+validation_size):]"
      ]
    },
    {
      "cell_type": "markdown",
      "metadata": {
        "id": "tsDKuiTopKpk"
      },
      "source": [
        "## Find best k parameter"
      ]
    },
    {
      "cell_type": "code",
      "execution_count": null,
      "metadata": {
        "id": "WM-wkTH3pKpk",
        "outputId": "d5b7c854-a446-4ac4-ba48-39198577e59d",
        "colab": {
          "referenced_widgets": [
            "d75bb342c95b4339b20286ed465e89e8"
          ]
        }
      },
      "outputs": [
        {
          "data": {
            "application/vnd.jupyter.widget-view+json": {
              "model_id": "d75bb342c95b4339b20286ed465e89e8",
              "version_major": 2,
              "version_minor": 0
            },
            "text/plain": [
              "HBox(children=(IntProgress(value=0, max=47), HTML(value='')))"
            ]
          },
          "metadata": {},
          "output_type": "display_data"
        },
        {
          "name": "stdout",
          "output_type": "stream",
          "text": [
            "\n"
          ]
        },
        {
          "data": {
            "image/png": "[encoded data removed]",
            "text/plain": [
              "<Figure size 432x288 with 1 Axes>"
            ]
          },
          "metadata": {},
          "output_type": "display_data"
        }
      ],
      "source": [
        "k_values = [i for i in range(3,50)]\n",
        "\n",
        "best_k, accuracies = select_knn_model(X_validation, y_validation, X_train, y_train, k_values, distance_function=get_euclidean_distance)\n",
        "\n",
        "plt.plot(k_values, accuracies)\n",
        "plt.xlabel('K parameter')\n",
        "plt.ylabel('Accuracy')\n",
        "plt.title('Accuracy for k nearest neighbors')\n",
        "plt.grid()\n",
        "plt.show()\n"
      ]
    },
    {
      "cell_type": "markdown",
      "metadata": {
        "id": "lMKXwKGMpKpk"
      },
      "source": [
        "## Count accuracy for training set"
      ]
    },
    {
      "cell_type": "code",
      "execution_count": null,
      "metadata": {
        "id": "gbkfnHxWpKpk",
        "outputId": "d73d8c0d-4d62-447c-9b30-9d3211c9502d"
      },
      "outputs": [
        {
          "name": "stdout",
          "output_type": "stream",
          "text": [
            "Accuracy for best k=14: 93.333333%\n"
          ]
        }
      ],
      "source": [
        "prediction = predict(X_test, X_train, y_train, best_k, get_euclidean_distance)\n",
        "\n",
        "accuracy = count_accuracy(prediction, y_test)\n",
        "\n",
        "print(\"Accuracy for best k={}: {:2f}%\".format(best_k, accuracy*100))\n"
      ]
    },
    {
      "cell_type": "markdown",
      "metadata": {
        "id": "wZ513AMxpKpk"
      },
      "source": [
        "# Real World Example - Mnist Dataset"
      ]
    },
    {
      "cell_type": "markdown",
      "metadata": {
        "id": "U8670b0NpKpk"
      },
      "source": [
        "Mnist is a popular database of handwritten images created for people who are new to machine learning. There are many courses on the internet that include classification problem using MNIST dataset.\n",
        "\n",
        "This dataset contains 55000 images and labels. Each image is 28x28 pixels large, but for the purpose of the classification task they are flattened to 784x1 arrays $(28 \\cdot 28 = 784)$. Summing up our training set is a matrix of size $[50000, 784]$  = [amount of images, size of image]. We will split it into 40000 training examples and 10000 validation examples to choose a best k\n",
        "\n",
        "\n",
        "It also contains 5000 test images and labels, but for test we will use only 1000 (due to time limitations, using 5k would take 5x as much time) \n",
        "\n",
        "\n",
        "<h3>Mnist Data Example</h3>\n",
        "<img src=\"https://github.com/tugot17/KNN-Algorithm-From-Scratch/blob/master/knn/mnist_example.jpg?raw=1\" height=\"70%\" width=\"70%\">\n",
        "\n",
        "Now we are going to download this dataset and split it into test and train sets."
      ]
    },
    {
      "cell_type": "code",
      "execution_count": null,
      "metadata": {
        "id": "t_8xUNsupKpk",
        "outputId": "c8f4fbd8-ea38-4dba-f753-92f546dc17bf"
      },
      "outputs": [
        {
          "name": "stdout",
          "output_type": "stream",
          "text": [
            "Training images matrix size: (49000, 784)\n",
            "Training labels matrix size: (49000,)\n",
            "Validation images matrix size: (1000, 784)\n",
            "Validation labels matrix size: (1000,)\n",
            "Testing images matrix size: (1000, 784)\n",
            "Testing labels matrix size: (1000,)\n",
            "Possible labels [0 1 2 3 4 5 6 7 8 9]\n"
          ]
        }
      ],
      "source": [
        "import utils\n",
        "import cv2\n",
        "\n",
        "training_size = 49_000\n",
        "validation_size = 1000\n",
        "test_size = 1000\n",
        "\n",
        "train_data, test = utils.get_mnist_dataset()\n",
        "\n",
        "train_images, train_labels = train_data\n",
        "test_images, test_labels = test\n",
        "\n",
        "validation_images = train_images[training_size:training_size + validation_size]\n",
        "train_images = train_images[:training_size]\n",
        "\n",
        "validation_labels = train_labels[training_size:training_size + validation_size]\n",
        "train_labels = train_labels[:training_size]\n",
        "\n",
        "test_images = test_images[:test_size]\n",
        "test_labels = test_labels[:test_size]\n",
        "\n",
        "\n",
        "print(\"Training images matrix size: {}\".format(train_images.shape))\n",
        "print(\"Training labels matrix size: {}\".format(train_labels.shape))\n",
        "\n",
        "print(\"Validation images matrix size: {}\".format(validation_images.shape))\n",
        "print(\"Validation labels matrix size: {}\".format(validation_labels.shape))\n",
        "\n",
        "print(\"Testing images matrix size: {}\".format(test_images.shape))\n",
        "print(\"Testing labels matrix size: {}\".format(test_labels.shape))\n",
        "\n",
        "print(\"Possible labels {}\".format(np.unique(test_labels)))\n",
        "\n",
        "\n"
      ]
    },
    {
      "cell_type": "markdown",
      "metadata": {
        "id": "vcUZR6pRpKpk"
      },
      "source": [
        "## Visualisation\n",
        "Visualisation isn't necessery to the problem, but it helps to understand what are we doing."
      ]
    },
    {
      "cell_type": "code",
      "execution_count": null,
      "metadata": {
        "id": "-7KCncQ0pKpk"
      },
      "outputs": [],
      "source": [
        "from matplotlib.gridspec import GridSpec\n",
        "\n",
        "def show_first_8(images):\n",
        "    ax =[]\n",
        "    \n",
        "    fig = plt.figure(figsize=(10, 10))\n",
        "\n",
        "    gs = GridSpec(2, 4, wspace=0.0, hspace=-0.5)\n",
        "    for i in range(2):\n",
        "        for j in range(4):\n",
        "            ax.append(fig.add_subplot(gs[i,j]))\n",
        "    for i, axis in enumerate(ax):\n",
        "        axis.imshow(images[i])\n",
        "\n",
        "    plt.show()\n"
      ]
    },
    {
      "cell_type": "code",
      "execution_count": null,
      "metadata": {
        "id": "oQ9ZMwPNpKpk",
        "outputId": "7e9ea92f-5f07-4b27-9181-9be2b93f53e6"
      },
      "outputs": [
        {
          "name": "stdout",
          "output_type": "stream",
          "text": [
            "First 8 images of train set:\n"
          ]
        },
        {
          "data": {
            "image/png": "[encoded data removed]",
            "text/plain": [
              "<Figure size 720x720 with 8 Axes>"
            ]
          },
          "metadata": {},
          "output_type": "display_data"
        }
      ],
      "source": [
        "first_8_images = train_images[:8]\n",
        "resized = np.reshape(first_8_images, (-1,28,28))\n",
        "print('First 8 images of train set:')\n",
        "show_first_8(resized)\n"
      ]
    },
    {
      "cell_type": "markdown",
      "metadata": {
        "id": "yupSYYh-pKpk"
      },
      "source": [
        "## Find best k parameter"
      ]
    },
    {
      "cell_type": "code",
      "execution_count": null,
      "metadata": {
        "id": "sOacMD2-pKpk",
        "outputId": "e19b450b-79e8-4101-98c5-a1f9b41546e6",
        "colab": {
          "referenced_widgets": [
            "52bbd3f0d4214bdeb0eb93d92b9a6f82"
          ]
        }
      },
      "outputs": [
        {
          "data": {
            "application/vnd.jupyter.widget-view+json": {
              "model_id": "52bbd3f0d4214bdeb0eb93d92b9a6f82",
              "version_major": 2,
              "version_minor": 0
            },
            "text/plain": [
              "HBox(children=(IntProgress(value=0, max=10), HTML(value='')))"
            ]
          },
          "metadata": {},
          "output_type": "display_data"
        },
        {
          "name": "stdout",
          "output_type": "stream",
          "text": [
            "\n"
          ]
        },
        {
          "data": {
            "image/png": "[encoded data removed]",
            "text/plain": [
              "<Figure size 432x288 with 1 Axes>"
            ]
          },
          "metadata": {},
          "output_type": "display_data"
        }
      ],
      "source": [
        "k_values = [i for i in range(3, 50, 5)]\n",
        "\n",
        "best_k, accuracies = select_knn_model(validation_images, validation_labels, train_images, train_labels, k_values,\n",
        "                                      distance_function=get_euclidean_distance)\n",
        "\n",
        "plt.plot(k_values, accuracies)\n",
        "plt.xlabel('K parameter')\n",
        "plt.ylabel('Accuracy')\n",
        "plt.title('Accuracy for k nearest neighbors')\n",
        "plt.grid()\n",
        "plt.show()\n",
        "\n"
      ]
    },
    {
      "cell_type": "code",
      "execution_count": null,
      "metadata": {
        "id": "WCo6S9DKpKpk",
        "outputId": "8768ad5f-e11a-4f73-be0a-1a169acaac0a"
      },
      "outputs": [
        {
          "name": "stdout",
          "output_type": "stream",
          "text": [
            "Accuracy on test set for best k=3: 96.1%\n"
          ]
        }
      ],
      "source": [
        "prediction = np.squeeze(predict(test_images, train_images, train_labels, best_k, get_euclidean_distance))\n",
        "\n",
        "accuracy = count_accuracy(prediction, test_labels)\n",
        "\n",
        "print(\"Accuracy on test set for best k={}: {:2}%\".format(best_k, accuracy * 100))\n"
      ]
    },
    {
      "cell_type": "markdown",
      "metadata": {
        "id": "M_IgfbicpKpl"
      },
      "source": [
        "# Sources\n",
        "\n",
        "https://en.wikipedia.org/wiki/K-nearest_neighbors_algorithm - first visualisation image\n",
        "\n",
        "https://en.wikipedia.org/wiki/Euclidean_distance - euclidean distance visualisation\n",
        "\n",
        "https://rajritvikblog.wordpress.com/2017/06/29/iris-dataset-analysis-python/ - first iris image\n",
        "\n",
        "https://rpubs.com/wjholst/322258 - second iris image\n",
        "\n",
        "https://www.kaggle.com/pablotab/mnistpklgz - mnist dataset\n"
      ]
    }
  ],
  "metadata": {
    "kernelspec": {
      "display_name": "Python 3",
      "language": "python",
      "name": "python3"
    },
    "language_info": {
      "codemirror_mode": {
        "name": "ipython",
        "version": 3
      },
      "file_extension": ".py",
      "mimetype": "text/x-python",
      "name": "python",
      "nbconvert_exporter": "python",
      "pygments_lexer": "ipython3",
      "version": "3.6.5"
    },
    "colab": {
      "provenance": []
    }
  },
  "nbformat": 4,
  "nbformat_minor": 0
}